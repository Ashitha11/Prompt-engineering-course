{
  "nbformat": 4,
  "nbformat_minor": 0,
  "metadata": {
    "colab": {
      "provenance": [],
      "authorship_tag": "ABX9TyO4bAcndC2mIg0Bn+b3ysIw",
      "include_colab_link": true
    },
    "kernelspec": {
      "name": "python3",
      "display_name": "Python 3"
    },
    "language_info": {
      "name": "python"
    }
  },
  "cells": [
    {
      "cell_type": "markdown",
      "metadata": {
        "id": "view-in-github",
        "colab_type": "text"
      },
      "source": [
        "<a href=\"https://colab.research.google.com/github/Ashitha11/Prompt-engineering-course/blob/main/adv_listgeneration.ipynb\" target=\"_parent\"><img src=\"https://colab.research.google.com/assets/colab-badge.svg\" alt=\"Open In Colab\"/></a>"
      ]
    },
    {
      "cell_type": "code",
      "execution_count": 1,
      "metadata": {
        "colab": {
          "base_uri": "https://localhost:8080/"
        },
        "id": "XYg8COx44h56",
        "outputId": "b2259273-11fc-4e82-fbb4-ad753ad97681"
      },
      "outputs": [
        {
          "output_type": "stream",
          "name": "stdout",
          "text": [
            "Requirement already satisfied: openai in /usr/local/lib/python3.11/dist-packages (1.59.9)\n",
            "Collecting openai\n",
            "  Downloading openai-1.60.2-py3-none-any.whl.metadata (27 kB)\n",
            "Requirement already satisfied: anyio<5,>=3.5.0 in /usr/local/lib/python3.11/dist-packages (from openai) (3.7.1)\n",
            "Requirement already satisfied: distro<2,>=1.7.0 in /usr/local/lib/python3.11/dist-packages (from openai) (1.9.0)\n",
            "Requirement already satisfied: httpx<1,>=0.23.0 in /usr/local/lib/python3.11/dist-packages (from openai) (0.28.1)\n",
            "Requirement already satisfied: jiter<1,>=0.4.0 in /usr/local/lib/python3.11/dist-packages (from openai) (0.8.2)\n",
            "Requirement already satisfied: pydantic<3,>=1.9.0 in /usr/local/lib/python3.11/dist-packages (from openai) (2.10.6)\n",
            "Requirement already satisfied: sniffio in /usr/local/lib/python3.11/dist-packages (from openai) (1.3.1)\n",
            "Requirement already satisfied: tqdm>4 in /usr/local/lib/python3.11/dist-packages (from openai) (4.67.1)\n",
            "Requirement already satisfied: typing-extensions<5,>=4.11 in /usr/local/lib/python3.11/dist-packages (from openai) (4.12.2)\n",
            "Requirement already satisfied: idna>=2.8 in /usr/local/lib/python3.11/dist-packages (from anyio<5,>=3.5.0->openai) (3.10)\n",
            "Requirement already satisfied: certifi in /usr/local/lib/python3.11/dist-packages (from httpx<1,>=0.23.0->openai) (2024.12.14)\n",
            "Requirement already satisfied: httpcore==1.* in /usr/local/lib/python3.11/dist-packages (from httpx<1,>=0.23.0->openai) (1.0.7)\n",
            "Requirement already satisfied: h11<0.15,>=0.13 in /usr/local/lib/python3.11/dist-packages (from httpcore==1.*->httpx<1,>=0.23.0->openai) (0.14.0)\n",
            "Requirement already satisfied: annotated-types>=0.6.0 in /usr/local/lib/python3.11/dist-packages (from pydantic<3,>=1.9.0->openai) (0.7.0)\n",
            "Requirement already satisfied: pydantic-core==2.27.2 in /usr/local/lib/python3.11/dist-packages (from pydantic<3,>=1.9.0->openai) (2.27.2)\n",
            "Downloading openai-1.60.2-py3-none-any.whl (456 kB)\n",
            "\u001b[2K   \u001b[90m━━━━━━━━━━━━━━━━━━━━━━━━━━━━━━━━━━━━━━━━\u001b[0m \u001b[32m456.1/456.1 kB\u001b[0m \u001b[31m12.7 MB/s\u001b[0m eta \u001b[36m0:00:00\u001b[0m\n",
            "\u001b[?25hInstalling collected packages: openai\n",
            "  Attempting uninstall: openai\n",
            "    Found existing installation: openai 1.59.9\n",
            "    Uninstalling openai-1.59.9:\n",
            "      Successfully uninstalled openai-1.59.9\n",
            "Successfully installed openai-1.60.2\n"
          ]
        }
      ],
      "source": [
        "pip install openai --upgrade"
      ]
    },
    {
      "cell_type": "code",
      "source": [
        "from google.colab import drive              #access to drive\n",
        "drive.mount('/content/drive')"
      ],
      "metadata": {
        "colab": {
          "base_uri": "https://localhost:8080/"
        },
        "id": "uIrPf0lG53RW",
        "outputId": "904c4182-94dd-47b1-a833-df576a558f0a"
      },
      "execution_count": 8,
      "outputs": [
        {
          "output_type": "stream",
          "name": "stdout",
          "text": [
            "Mounted at /content/drive\n"
          ]
        }
      ]
    },
    {
      "cell_type": "code",
      "source": [
        "pip install python-dotenv                   #to load .env file from drive"
      ],
      "metadata": {
        "colab": {
          "base_uri": "https://localhost:8080/"
        },
        "id": "QkKD6_Hg7A_E",
        "outputId": "dfa0c690-c690-476b-c683-d3d04e5d7197"
      },
      "execution_count": 9,
      "outputs": [
        {
          "output_type": "stream",
          "name": "stdout",
          "text": [
            "Collecting python-dotenv\n",
            "  Downloading python_dotenv-1.0.1-py3-none-any.whl.metadata (23 kB)\n",
            "Downloading python_dotenv-1.0.1-py3-none-any.whl (19 kB)\n",
            "Installing collected packages: python-dotenv\n",
            "Successfully installed python-dotenv-1.0.1\n"
          ]
        }
      ]
    },
    {
      "cell_type": "code",
      "source": [
        "import os\n",
        "from dotenv import load_dotenv\n",
        "\n",
        "# Define the path to your .env file inside Google Drive\n",
        "env_path = \"/content/drive/My Drive/Colab/.env\"  # Adjust if needed\n",
        "\n",
        "# Load environment variables from the file\n",
        "load_dotenv(env_path)\n",
        "\n",
        "# Access the API key\n",
        "api_key = os.getenv(\"OPENAI_API_KEY\")\n"
      ],
      "metadata": {
        "id": "QPvV5cQ67ILB"
      },
      "execution_count": 12,
      "outputs": []
    },
    {
      "cell_type": "code",
      "source": [
        "import openai\n",
        "\n",
        "response = openai.chat.completions.create(\n",
        "    model=\"gpt-4-turbo\",  # The model to use (e.g., \"gpt-4-turbo\" or \"gpt-3.5-turbo\")\n",
        "    messages=[\n",
        "        {\"role\": \"system\", \"content\": \"You are a helpful assistant.\"},\n",
        "        {\"role\": \"user\", \"content\": \"Tell me about black holes in less than hundred words\"}\n",
        "    ],\n",
        "    temperature=0.7  # Controls randomness (lower values = more deterministic output)\n",
        ")\n",
        "\n",
        "print(response.choices[0].message.content)  # Extract the model's reply\n"
      ],
      "metadata": {
        "colab": {
          "base_uri": "https://localhost:8080/"
        },
        "id": "EZzQAVas7oya",
        "outputId": "67c3a22b-02ed-4ebf-b72f-ed2fa7000c7d"
      },
      "execution_count": 13,
      "outputs": [
        {
          "output_type": "stream",
          "name": "stdout",
          "text": [
            "Black holes are regions in space where gravity is so strong that nothing, not even light, can escape from them. They form when massive stars collapse under their own gravity at the end of their life cycles. Black holes can be characterized by only three properties: mass, charge, and spin. They are detected indirectly through their interaction with other matter and the gravitational effects on nearby objects, including the emission of X-rays and gravitational waves. The boundary around a black hole beyond which no escape is possible is called the event horizon. Black holes continue to be a focus of intense research in astrophysics.\n"
          ]
        }
      ]
    },
    {
      "cell_type": "code",
      "source": [
        "import json\n",
        "def complete(prompt):\n",
        "    response = openai.chat.completions.create(\n",
        "        model=\"gpt-4\",\n",
        "        messages=[\n",
        "            {\n",
        "            \"role\": \"user\",\n",
        "            \"content\": prompt\n",
        "            }\n",
        "        ],\n",
        "    )\n",
        "    return response.choices[0].message.content\n",
        "\n",
        "complete(\"is this working?\")"
      ],
      "metadata": {
        "colab": {
          "base_uri": "https://localhost:8080/",
          "height": 36
        },
        "id": "UZ9AdlZS73ra",
        "outputId": "c1103385-0190-4c7d-b615-b7567ac86daa"
      },
      "execution_count": 17,
      "outputs": [
        {
          "output_type": "execute_result",
          "data": {
            "text/plain": [
              "\"Yes, it's working. How can I assist you today?\""
            ],
            "application/vnd.google.colaboratory.intrinsic+json": {
              "type": "string"
            }
          },
          "metadata": {},
          "execution_count": 17
        }
      ]
    },
    {
      "cell_type": "code",
      "source": [
        "#setup the article title\n",
        "article = \"What is a Langchain?\"\n",
        "\n",
        "#inject article title into base prompt\n",
        "base_prompt = f'Write a numbered, hierarchical outline for an article on \"{article}\"\\n\\n Here is an example, of the structure:\\n\\n1. Introduction \\n    a. Definition of digital marketing \\n2. Types of Digital Marketing \\n    a. Search Engine Optimization \\n    b. Social Media Marketing \\n    c. Content Marketing \\n    d. Pay-Per-Click Advertising \\n    e. Email Marketing \\n3. Benefits of Digital Marketing \\n    a. Cost-Effective \\n    b. Targeted Audience \\n    c. Measurable Results \\n    d. Increased Reach \\n\\n----\\n'\n",
        "\n",
        "result = complete(base_prompt)\n",
        "result\n",
        "# Combine the two patterns so that we have a dictionary that looks like this:\n",
        "# {\n",
        "#     \"1. Introduction\": {\"a.\": \"Definition of digital marketing\"},\n",
        "#     \"2. Types of Digital Marketing\": {\n",
        "#         \"a.\": \"Cost-Effective\",\n",
        "#         \"b.\": \"Targeted Audience\",\n",
        "#         \"c.\": \"Measurable Results\",\n",
        "#     },\n",
        "# }\n",
        "\n"
      ],
      "metadata": {
        "colab": {
          "base_uri": "https://localhost:8080/",
          "height": 140
        },
        "id": "ju8GcgF08QU9",
        "outputId": "1a169a17-e1c3-4723-ce99-e734cc687bcc"
      },
      "execution_count": 18,
      "outputs": [
        {
          "output_type": "execute_result",
          "data": {
            "text/plain": [
              "'1. Introduction \\n    a. Brief overview of blockchain technology\\n2. The Origin of Langchain\\n    a. Development history\\n    b. Founders and key team members\\n3. Understanding Langchain\\n    a. Definition of Langchain\\n    b. The connection between Langchain and blockchain \\n    c. Core components of Langchain\\n4. Operation of Langchain\\n    a. How it works \\n    b. Understanding its uniqueness \\n    c. Explaining its architecture structure\\n5. Uses of Langchain \\n    a. Decentralized translation market\\n    b. Intellectual property protection\\n    c. Creating translation models\\n6. Advantages of Langchain\\n    a. Cost-Effective\\n    b. Security and transparency\\n    c. Efficient and fast transaction\\n    d. Incentivizing participation\\n7. Current and Potential Applications \\n    a. Current uses within various industries \\n    b. Future potential and growth possibilities \\n8. Conclusion \\n    a. Summary of Langchain\\n    b. Its impact on the translation industry \\n    c. Future prospect and direction.'"
            ],
            "application/vnd.google.colaboratory.intrinsic+json": {
              "type": "string"
            }
          },
          "metadata": {},
          "execution_count": 18
        }
      ]
    },
    {
      "cell_type": "code",
      "source": [
        "print(result)"
      ],
      "metadata": {
        "colab": {
          "base_uri": "https://localhost:8080/"
        },
        "id": "SVnCax3F9ZQT",
        "outputId": "863ee635-41a1-4c5f-e2b7-d4d4b042da20"
      },
      "execution_count": 19,
      "outputs": [
        {
          "output_type": "stream",
          "name": "stdout",
          "text": [
            "1. Introduction \n",
            "    a. Brief overview of blockchain technology\n",
            "2. The Origin of Langchain\n",
            "    a. Development history\n",
            "    b. Founders and key team members\n",
            "3. Understanding Langchain\n",
            "    a. Definition of Langchain\n",
            "    b. The connection between Langchain and blockchain \n",
            "    c. Core components of Langchain\n",
            "4. Operation of Langchain\n",
            "    a. How it works \n",
            "    b. Understanding its uniqueness \n",
            "    c. Explaining its architecture structure\n",
            "5. Uses of Langchain \n",
            "    a. Decentralized translation market\n",
            "    b. Intellectual property protection\n",
            "    c. Creating translation models\n",
            "6. Advantages of Langchain\n",
            "    a. Cost-Effective\n",
            "    b. Security and transparency\n",
            "    c. Efficient and fast transaction\n",
            "    d. Incentivizing participation\n",
            "7. Current and Potential Applications \n",
            "    a. Current uses within various industries \n",
            "    b. Future potential and growth possibilities \n",
            "8. Conclusion \n",
            "    a. Summary of Langchain\n",
            "    b. Its impact on the translation industry \n",
            "    c. Future prospect and direction.\n"
          ]
        }
      ]
    },
    {
      "cell_type": "code",
      "source": [
        "!pip install pyyaml\n",
        "\n",
        "import yaml"
      ],
      "metadata": {
        "colab": {
          "base_uri": "https://localhost:8080/"
        },
        "id": "kao1J5kY_5Bx",
        "outputId": "bdf533de-a1ca-4580-8b95-3b45841d52e9"
      },
      "execution_count": 20,
      "outputs": [
        {
          "output_type": "stream",
          "name": "stdout",
          "text": [
            "Requirement already satisfied: pyyaml in /usr/local/lib/python3.11/dist-packages (6.0.2)\n"
          ]
        }
      ]
    },
    {
      "cell_type": "code",
      "source": [
        "prompt = \"Produce an article outline in the format a .yml file for \\\"What is Langchain?\\\"\\n\\nAlways return valid YML.\\n\\nHere is an example:\\n\\n- name: Example YAML File\\n  description: This is an example YAML file.\\n  sections:\\n    - title: Introduction\\n      content: |\\n        This is the introduction.\\n    - title: Conclusion\\n      content: |\\n        This is the conclusion.\\n\\n----\\n\\n\\n\"\n",
        "text = complete(prompt)\n",
        "text"
      ],
      "metadata": {
        "colab": {
          "base_uri": "https://localhost:8080/",
          "height": 140
        },
        "id": "yYhfNELx_7pg",
        "outputId": "1a03f8fc-299e-4b24-995b-273d57c5c045"
      },
      "execution_count": 21,
      "outputs": [
        {
          "output_type": "execute_result",
          "data": {
            "text/plain": [
              "'- name: What is Langchain?\\n  description: An article providing a comprehensive overview of Langchain.\\n  sections:\\n    - title: Introduction\\n      content: |\\n        Brief introduction of the topic and relevance of Langchain.\\n        \\n    - title: Origins of Langchain\\n      content: |\\n        Detailed information on the beginnings of Langchain, its creators, and its main purpose.\\n\\n    - title: How does Langchain work?\\n      content: |\\n        An explanation of the technical aspects of Langchain, how it functions and its main components.\\n\\n    - title: Uses and Applications of Langchain\\n      content: |\\n        Information on the different uses and applications of Langchain and examples where it has been used.\\n\\n    - title: Advantages of Langchain\\n      content: |\\n        A focus on the main advantages and strengths of using Langchain.\\n\\n    - title: Disadvantages and criticisms of Langchain\\n      content: |\\n        A balanced observation on the criticisms or drawbacks that Langchain might have.\\n\\n    - title: Future of Langchain\\n      content: |\\n        A look into the future potential of Langchain, its expected developments and advancements.\\n\\n    - title: Conclusion\\n      content: |\\n        Final thoughts and wrap-up on Langchain as a tool and technology.\\n\\n    - title: References\\n      content: |\\n        Published works and articles used as references for the write-up for further reading.'"
            ],
            "application/vnd.google.colaboratory.intrinsic+json": {
              "type": "string"
            }
          },
          "metadata": {},
          "execution_count": 21
        }
      ]
    },
    {
      "cell_type": "code",
      "source": [
        "print(text)"
      ],
      "metadata": {
        "colab": {
          "base_uri": "https://localhost:8080/"
        },
        "id": "aVSVX5fjAJQ9",
        "outputId": "31900066-86c1-43fb-dbde-90dc621f2248"
      },
      "execution_count": 22,
      "outputs": [
        {
          "output_type": "stream",
          "name": "stdout",
          "text": [
            "- name: What is Langchain?\n",
            "  description: An article providing a comprehensive overview of Langchain.\n",
            "  sections:\n",
            "    - title: Introduction\n",
            "      content: |\n",
            "        Brief introduction of the topic and relevance of Langchain.\n",
            "        \n",
            "    - title: Origins of Langchain\n",
            "      content: |\n",
            "        Detailed information on the beginnings of Langchain, its creators, and its main purpose.\n",
            "\n",
            "    - title: How does Langchain work?\n",
            "      content: |\n",
            "        An explanation of the technical aspects of Langchain, how it functions and its main components.\n",
            "\n",
            "    - title: Uses and Applications of Langchain\n",
            "      content: |\n",
            "        Information on the different uses and applications of Langchain and examples where it has been used.\n",
            "\n",
            "    - title: Advantages of Langchain\n",
            "      content: |\n",
            "        A focus on the main advantages and strengths of using Langchain.\n",
            "\n",
            "    - title: Disadvantages and criticisms of Langchain\n",
            "      content: |\n",
            "        A balanced observation on the criticisms or drawbacks that Langchain might have.\n",
            "\n",
            "    - title: Future of Langchain\n",
            "      content: |\n",
            "        A look into the future potential of Langchain, its expected developments and advancements.\n",
            "\n",
            "    - title: Conclusion\n",
            "      content: |\n",
            "        Final thoughts and wrap-up on Langchain as a tool and technology.\n",
            "\n",
            "    - title: References\n",
            "      content: |\n",
            "        Published works and articles used as references for the write-up for further reading.\n"
          ]
        }
      ]
    },
    {
      "cell_type": "code",
      "source": [
        "# Load the YAML string into a Python object\n",
        "data = yaml.load(text, Loader=yaml.FullLoader)\n",
        "print(data)"
      ],
      "metadata": {
        "colab": {
          "base_uri": "https://localhost:8080/"
        },
        "id": "iEPm6NR1Aots",
        "outputId": "95b62c88-bfe2-462b-8acb-2759800ecbf5"
      },
      "execution_count": 23,
      "outputs": [
        {
          "output_type": "stream",
          "name": "stdout",
          "text": [
            "[{'name': 'What is Langchain?', 'description': 'An article providing a comprehensive overview of Langchain.', 'sections': [{'title': 'Introduction', 'content': 'Brief introduction of the topic and relevance of Langchain.\\n'}, {'title': 'Origins of Langchain', 'content': 'Detailed information on the beginnings of Langchain, its creators, and its main purpose.\\n'}, {'title': 'How does Langchain work?', 'content': 'An explanation of the technical aspects of Langchain, how it functions and its main components.\\n'}, {'title': 'Uses and Applications of Langchain', 'content': 'Information on the different uses and applications of Langchain and examples where it has been used.\\n'}, {'title': 'Advantages of Langchain', 'content': 'A focus on the main advantages and strengths of using Langchain.\\n'}, {'title': 'Disadvantages and criticisms of Langchain', 'content': 'A balanced observation on the criticisms or drawbacks that Langchain might have.\\n'}, {'title': 'Future of Langchain', 'content': 'A look into the future potential of Langchain, its expected developments and advancements.\\n'}, {'title': 'Conclusion', 'content': 'Final thoughts and wrap-up on Langchain as a tool and technology.\\n'}, {'title': 'References', 'content': 'Published works and articles used as references for the write-up for further reading.'}]}]\n"
          ]
        }
      ]
    }
  ]
}